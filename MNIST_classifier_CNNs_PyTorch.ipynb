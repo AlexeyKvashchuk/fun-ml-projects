{
 "cells": [
  {
   "cell_type": "code",
   "execution_count": 1,
   "metadata": {},
   "outputs": [],
   "source": [
    "import torch\n",
    "import torch.nn as nn\n",
    "import torch.nn.functional as F\n",
    "from torch.utils.data import DataLoader\n",
    "from torchvision import datasets, transforms\n",
    "from torchvision.utils import make_grid\n",
    "\n",
    "import numpy as np\n",
    "import pandas as pd\n",
    "from sklearn.metrics import confusion_matrix\n",
    "import matplotlib.pyplot as plt\n",
    "%matplotlib inline"
   ]
  },
  {
   "cell_type": "code",
   "execution_count": 2,
   "metadata": {},
   "outputs": [],
   "source": [
    "transform = transforms.ToTensor()\n",
    "\n",
    "train_data = datasets.MNIST(root='../Data', train=True, download=True, transform=transform)\n",
    "test_data = datasets.MNIST(root='../Data', train=False, download=True, transform=transform)"
   ]
  },
  {
   "cell_type": "code",
   "execution_count": 3,
   "metadata": {},
   "outputs": [],
   "source": [
    "train_loader = DataLoader(train_data, batch_size=10, shuffle=True)\n",
    "test_loader = DataLoader(test_data, batch_size=10, shuffle=False)"
   ]
  },
  {
   "cell_type": "code",
   "execution_count": 4,
   "metadata": {},
   "outputs": [],
   "source": [
    "# Define layers\n",
    "conv1 = nn.Conv2d(1, 6, 3, 1)\n",
    "conv2 = nn.Conv2d(6, 16, 3, 1)"
   ]
  },
  {
   "cell_type": "code",
   "execution_count": 5,
   "metadata": {},
   "outputs": [],
   "source": [
    "class ConvolutionalNetwork(nn.Module):\n",
    "    def __init__(self):\n",
    "        super().__init__()\n",
    "        self.conv1 = nn.Conv2d(1, 6, 3, 1)\n",
    "        self.conv2 = nn.Conv2d(6, 16, 3, 1)\n",
    "        self.fc1 = nn.Linear(5*5*16, 120)\n",
    "        self.fc2 = nn.Linear(120, 84)\n",
    "        self.fc3 = nn.Linear(84,10)\n",
    "\n",
    "    def forward(self, X):\n",
    "        X = F.relu(self.conv1(X))\n",
    "        X = F.max_pool2d(X, 2, 2)\n",
    "        X = F.relu(self.conv2(X))\n",
    "        X = F.max_pool2d(X, 2, 2)\n",
    "        X = X.view(-1, 5*5*16)\n",
    "        X = F.relu(self.fc1(X))\n",
    "        X = F.relu(self.fc2(X))\n",
    "        X = self.fc3(X)\n",
    "        return F.log_softmax(X, dim=1)"
   ]
  },
  {
   "cell_type": "code",
   "execution_count": 6,
   "metadata": {},
   "outputs": [
    {
     "data": {
      "text/plain": [
       "ConvolutionalNetwork(\n",
       "  (conv1): Conv2d(1, 6, kernel_size=(3, 3), stride=(1, 1))\n",
       "  (conv2): Conv2d(6, 16, kernel_size=(3, 3), stride=(1, 1))\n",
       "  (fc1): Linear(in_features=400, out_features=120, bias=True)\n",
       "  (fc2): Linear(in_features=120, out_features=84, bias=True)\n",
       "  (fc3): Linear(in_features=84, out_features=10, bias=True)\n",
       ")"
      ]
     },
     "execution_count": 6,
     "metadata": {},
     "output_type": "execute_result"
    }
   ],
   "source": [
    "torch.manual_seed(42)\n",
    "model = ConvolutionalNetwork()\n",
    "model"
   ]
  },
  {
   "cell_type": "code",
   "execution_count": 7,
   "metadata": {},
   "outputs": [],
   "source": [
    "def count_parameters(model):\n",
    "    params = [p.numel() for p in model.parameters() if p.requires_grad]\n",
    "    for item in params:\n",
    "        print(f'{item:>6}')\n",
    "    print(f'______\\n{sum(params):>6}')"
   ]
  },
  {
   "cell_type": "code",
   "execution_count": 8,
   "metadata": {},
   "outputs": [
    {
     "name": "stdout",
     "output_type": "stream",
     "text": [
      "    54\n",
      "     6\n",
      "   864\n",
      "    16\n",
      " 48000\n",
      "   120\n",
      " 10080\n",
      "    84\n",
      "   840\n",
      "    10\n",
      "______\n",
      " 60074\n"
     ]
    }
   ],
   "source": [
    "count_parameters(model)"
   ]
  },
  {
   "cell_type": "code",
   "execution_count": 9,
   "metadata": {},
   "outputs": [],
   "source": [
    "criterion = nn.CrossEntropyLoss()\n",
    "optimizer = torch.optim.Adam(model.parameters(), lr=0.001)"
   ]
  },
  {
   "cell_type": "code",
   "execution_count": 10,
   "metadata": {},
   "outputs": [
    {
     "name": "stdout",
     "output_type": "stream",
     "text": [
      "epoch:  0  batch:  600 [  6000/60000]  loss: 0.21188489  accuracy:  78.233%\n",
      "epoch:  0  batch: 1200 [ 12000/60000]  loss: 0.56259727  accuracy:  85.367%\n",
      "epoch:  0  batch: 1800 [ 18000/60000]  loss: 0.05081815  accuracy:  88.456%\n",
      "epoch:  0  batch: 2400 [ 24000/60000]  loss: 0.03108222  accuracy:  90.296%\n",
      "epoch:  0  batch: 3000 [ 30000/60000]  loss: 0.01301624  accuracy:  91.503%\n",
      "epoch:  0  batch: 3600 [ 36000/60000]  loss: 0.00420542  accuracy:  92.303%\n",
      "epoch:  0  batch: 4200 [ 42000/60000]  loss: 0.06341784  accuracy:  92.862%\n",
      "epoch:  0  batch: 4800 [ 48000/60000]  loss: 0.00129358  accuracy:  93.379%\n",
      "epoch:  0  batch: 5400 [ 54000/60000]  loss: 0.00021618  accuracy:  93.809%\n",
      "epoch:  0  batch: 6000 [ 60000/60000]  loss: 0.00580071  accuracy:  94.180%\n",
      "epoch:  1  batch:  600 [  6000/60000]  loss: 0.07639530  accuracy:  98.033%\n",
      "epoch:  1  batch: 1200 [ 12000/60000]  loss: 0.29213899  accuracy:  97.900%\n",
      "epoch:  1  batch: 1800 [ 18000/60000]  loss: 0.21624720  accuracy:  97.861%\n",
      "epoch:  1  batch: 2400 [ 24000/60000]  loss: 0.00146819  accuracy:  97.938%\n",
      "epoch:  1  batch: 3000 [ 30000/60000]  loss: 0.00330391  accuracy:  97.913%\n",
      "epoch:  1  batch: 3600 [ 36000/60000]  loss: 0.26091406  accuracy:  97.928%\n",
      "epoch:  1  batch: 4200 [ 42000/60000]  loss: 0.00816179  accuracy:  97.974%\n",
      "epoch:  1  batch: 4800 [ 48000/60000]  loss: 0.17031585  accuracy:  97.977%\n",
      "epoch:  1  batch: 5400 [ 54000/60000]  loss: 0.01173344  accuracy:  98.022%\n",
      "epoch:  1  batch: 6000 [ 60000/60000]  loss: 0.02432168  accuracy:  98.023%\n",
      "epoch:  2  batch:  600 [  6000/60000]  loss: 0.00335774  accuracy:  98.833%\n",
      "epoch:  2  batch: 1200 [ 12000/60000]  loss: 0.00035369  accuracy:  98.683%\n",
      "epoch:  2  batch: 1800 [ 18000/60000]  loss: 0.00016468  accuracy:  98.600%\n",
      "epoch:  2  batch: 2400 [ 24000/60000]  loss: 0.00067403  accuracy:  98.513%\n",
      "epoch:  2  batch: 3000 [ 30000/60000]  loss: 0.00578864  accuracy:  98.533%\n",
      "epoch:  2  batch: 3600 [ 36000/60000]  loss: 0.00009515  accuracy:  98.547%\n",
      "epoch:  2  batch: 4200 [ 42000/60000]  loss: 0.00138918  accuracy:  98.490%\n",
      "epoch:  2  batch: 4800 [ 48000/60000]  loss: 0.00091693  accuracy:  98.483%\n",
      "epoch:  2  batch: 5400 [ 54000/60000]  loss: 0.00031126  accuracy:  98.524%\n",
      "epoch:  2  batch: 6000 [ 60000/60000]  loss: 0.00022177  accuracy:  98.528%\n",
      "epoch:  3  batch:  600 [  6000/60000]  loss: 0.00337872  accuracy:  99.133%\n",
      "epoch:  3  batch: 1200 [ 12000/60000]  loss: 0.05216552  accuracy:  98.917%\n",
      "epoch:  3  batch: 1800 [ 18000/60000]  loss: 0.00115631  accuracy:  98.928%\n",
      "epoch:  3  batch: 2400 [ 24000/60000]  loss: 0.00363812  accuracy:  98.871%\n",
      "epoch:  3  batch: 3000 [ 30000/60000]  loss: 0.00002049  accuracy:  98.870%\n",
      "epoch:  3  batch: 3600 [ 36000/60000]  loss: 0.00032764  accuracy:  98.861%\n",
      "epoch:  3  batch: 4200 [ 42000/60000]  loss: 0.00370904  accuracy:  98.850%\n",
      "epoch:  3  batch: 4800 [ 48000/60000]  loss: 0.00223335  accuracy:  98.877%\n",
      "epoch:  3  batch: 5400 [ 54000/60000]  loss: 0.01366637  accuracy:  98.891%\n",
      "epoch:  3  batch: 6000 [ 60000/60000]  loss: 0.00030372  accuracy:  98.848%\n",
      "epoch:  4  batch:  600 [  6000/60000]  loss: 0.00378107  accuracy:  99.150%\n",
      "epoch:  4  batch: 1200 [ 12000/60000]  loss: 0.32768580  accuracy:  99.058%\n",
      "epoch:  4  batch: 1800 [ 18000/60000]  loss: 0.00596209  accuracy:  99.094%\n",
      "epoch:  4  batch: 2400 [ 24000/60000]  loss: 0.00000468  accuracy:  99.112%\n",
      "epoch:  4  batch: 3000 [ 30000/60000]  loss: 0.00161213  accuracy:  99.033%\n",
      "epoch:  4  batch: 3600 [ 36000/60000]  loss: 0.00211138  accuracy:  99.039%\n",
      "epoch:  4  batch: 4200 [ 42000/60000]  loss: 0.01103196  accuracy:  99.012%\n",
      "epoch:  4  batch: 4800 [ 48000/60000]  loss: 0.00021346  accuracy:  99.017%\n",
      "epoch:  4  batch: 5400 [ 54000/60000]  loss: 0.49889487  accuracy:  99.050%\n",
      "epoch:  4  batch: 6000 [ 60000/60000]  loss: 0.00450682  accuracy:  99.048%\n",
      "\n",
      "Duration: 166 seconds\n"
     ]
    }
   ],
   "source": [
    "import time\n",
    "start_time = time.time()\n",
    "\n",
    "epochs = 5\n",
    "train_losses = []\n",
    "test_losses = []\n",
    "train_correct = []\n",
    "test_correct = []\n",
    "\n",
    "for i in range(epochs):\n",
    "    trn_corr = 0\n",
    "    tst_corr = 0\n",
    "    \n",
    "    # Run the training batches\n",
    "    for b, (X_train, y_train) in enumerate(train_loader):\n",
    "        b+=1\n",
    "        \n",
    "        # Apply the model\n",
    "        y_pred = model(X_train)  # we don't flatten X-train here\n",
    "        loss = criterion(y_pred, y_train)\n",
    " \n",
    "        # Tally the number of correct predictions\n",
    "        predicted = torch.max(y_pred.data, 1)[1]\n",
    "        batch_corr = (predicted == y_train).sum()\n",
    "        trn_corr += batch_corr\n",
    "        \n",
    "        # Update parameters\n",
    "        optimizer.zero_grad()\n",
    "        loss.backward()\n",
    "        optimizer.step()\n",
    "        \n",
    "        # Print interim results\n",
    "        if b%600 == 0:\n",
    "            print(f'epoch: {i:2}  batch: {b:4} [{10*b:6}/60000]  loss: {loss.item():10.8f}  \\\n",
    "accuracy: {trn_corr.item()*100/(10*b):7.3f}%')\n",
    "        \n",
    "    train_losses.append(loss)\n",
    "    train_correct.append(trn_corr)\n",
    "        \n",
    "    # Run the testing batches\n",
    "    with torch.no_grad():\n",
    "        for b, (X_test, y_test) in enumerate(test_loader):\n",
    "\n",
    "            # Apply the model\n",
    "            y_val = model(X_test)\n",
    "\n",
    "            # Tally the number of correct predictions\n",
    "            predicted = torch.max(y_val.data, 1)[1] \n",
    "            tst_corr += (predicted == y_test).sum()\n",
    "            \n",
    "    loss = criterion(y_val, y_test)\n",
    "    test_losses.append(loss)\n",
    "    test_correct.append(tst_corr)\n",
    "        \n",
    "print(f'\\nDuration: {time.time() - start_time:.0f} seconds') # print the time elapsed            "
   ]
  },
  {
   "cell_type": "code",
   "execution_count": 11,
   "metadata": {},
   "outputs": [
    {
     "data": {
      "image/png": "[encoded data removed]",
      "text/plain": [
       "<Figure size 432x288 with 1 Axes>"
      ]
     },
     "metadata": {
      "needs_background": "light"
     },
     "output_type": "display_data"
    }
   ],
   "source": [
    "plt.plot(train_losses, label='training loss')\n",
    "plt.plot(test_losses, label='validation loss')\n",
    "plt.title('Loss at the end of each epoch')\n",
    "plt.legend();"
   ]
  },
  {
   "cell_type": "code",
   "execution_count": 12,
   "metadata": {},
   "outputs": [
    {
     "data": {
      "text/plain": [
       "[tensor(0.0126),\n",
       " tensor(0.0008),\n",
       " tensor(0.0001),\n",
       " tensor(0.0001),\n",
       " tensor(0.0002)]"
      ]
     },
     "execution_count": 12,
     "metadata": {},
     "output_type": "execute_result"
    }
   ],
   "source": [
    "test_losses"
   ]
  },
  {
   "cell_type": "code",
   "execution_count": 13,
   "metadata": {},
   "outputs": [
    {
     "data": {
      "image/png": "[encoded data removed]",
      "text/plain": [
       "<Figure size 432x288 with 1 Axes>"
      ]
     },
     "metadata": {
      "needs_background": "light"
     },
     "output_type": "display_data"
    }
   ],
   "source": [
    "plt.plot([t/600 for t in train_correct], label='training accuracy')\n",
    "plt.plot([t/100 for t in test_correct], label='validation accuracy')\n",
    "plt.title('Accuracy at the end of each epoch')\n",
    "plt.legend();"
   ]
  },
  {
   "cell_type": "code",
   "execution_count": 14,
   "metadata": {},
   "outputs": [],
   "source": [
    "# Extract the data all at once, not in batches\n",
    "test_load_all = DataLoader(test_data, batch_size=10000, shuffle=False)"
   ]
  },
  {
   "cell_type": "code",
   "execution_count": 15,
   "metadata": {},
   "outputs": [
    {
     "name": "stdout",
     "output_type": "stream",
     "text": [
      "Test accuracy: 9844/10000 =  98.440%\n"
     ]
    }
   ],
   "source": [
    "with torch.no_grad():\n",
    "    correct = 0\n",
    "    for X_test, y_test in test_load_all:\n",
    "        y_val = model(X_test)  # we don't flatten the data this time\n",
    "        predicted = torch.max(y_val,1)[1]\n",
    "        correct += (predicted == y_test).sum()\n",
    "print(f'Test accuracy: {correct.item()}/{len(test_data)} = {correct.item()*100/(len(test_data)):7.3f}%')"
   ]
  },
  {
   "cell_type": "code",
   "execution_count": 16,
   "metadata": {},
   "outputs": [
    {
     "name": "stdout",
     "output_type": "stream",
     "text": [
      "[[   0    1    2    3    4    5    6    7    8    9]]\n",
      "\n",
      "[[ 977    0    2    0    0    2    7    2   10    1]\n",
      " [   0 1127   10    0    0    0    3    3    0    0]\n",
      " [   0    0 1002    0    0    0    0    3    4    0]\n",
      " [   0    0   10 1007    0   15    0    1    5    8]\n",
      " [   0    0    1    0  964    0    1    0    0    1]\n",
      " [   0    2    0    2    0  874    1    0    0    3]\n",
      " [   1    1    1    0    6    1  943    0    2    0]\n",
      " [   1    3    6    1    0    0    0 1016    2    3]\n",
      " [   1    2    0    0    3    0    3    1  950    9]\n",
      " [   0    0    0    0    9    0    0    2    1  984]]\n"
     ]
    }
   ],
   "source": [
    "# print a row of values for reference\n",
    "np.set_printoptions(formatter=dict(int=lambda x: f'{x:4}'))\n",
    "print(np.arange(10).reshape(1,10))\n",
    "print()\n",
    "\n",
    "# print the confusion matrix\n",
    "print(confusion_matrix(predicted.view(-1), y_test.view(-1)))"
   ]
  },
  {
   "cell_type": "code",
   "execution_count": 17,
   "metadata": {},
   "outputs": [
    {
     "data": {
      "text/plain": [
       "156"
      ]
     },
     "execution_count": 17,
     "metadata": {},
     "output_type": "execute_result"
    }
   ],
   "source": [
    "misses = np.array([])\n",
    "for i in range(len(predicted.view(-1))):\n",
    "    if predicted[i] != y_test[i]:\n",
    "        misses = np.append(misses,i).astype('int64')\n",
    "        \n",
    "# Display the number of misses\n",
    "len(misses)"
   ]
  },
  {
   "cell_type": "code",
   "execution_count": 18,
   "metadata": {},
   "outputs": [
    {
     "data": {
      "text/plain": [
       "array([ 184,  247,  291,  320,  321,  326,  340,  359,  412,  445])"
      ]
     },
     "execution_count": 18,
     "metadata": {},
     "output_type": "execute_result"
    }
   ],
   "source": [
    "# Display the first 10 index positions\n",
    "misses[:10]"
   ]
  },
  {
   "cell_type": "code",
   "execution_count": 19,
   "metadata": {},
   "outputs": [],
   "source": [
    "# Set up an iterator to feed batched rows\n",
    "r = 12   # row size\n",
    "row = iter(np.array_split(misses,len(misses)//r+1))"
   ]
  },
  {
   "cell_type": "code",
   "execution_count": 20,
   "metadata": {},
   "outputs": [
    {
     "name": "stdout",
     "output_type": "stream",
     "text": [
      "Index: [ 184  247  291  320  321  326  340  359  412  445  448  495]\n",
      "Label: [   8    4    2    9    2    2    5    9    5    6    9    8]\n",
      "Guess: [   3    6    1    8    7    1    3    4    3    0    8    0]\n"
     ]
    },
    {
     "data": {
      "image/png": "[encoded data removed]",
      "text/plain": [
       "<Figure size 720x288 with 1 Axes>"
      ]
     },
     "metadata": {
      "needs_background": "light"
     },
     "output_type": "display_data"
    }
   ],
   "source": [
    "nextrow = next(row)\n",
    "print(\"Index:\", nextrow)\n",
    "print(\"Label:\", y_test.index_select(0,torch.tensor(nextrow)).numpy())\n",
    "print(\"Guess:\", predicted.index_select(0,torch.tensor(nextrow)).numpy())\n",
    "\n",
    "images = X_test.index_select(0,torch.tensor(nextrow))\n",
    "im = make_grid(images, nrow=r)\n",
    "plt.figure(figsize=(10,4))\n",
    "plt.imshow(np.transpose(im.numpy(), (1, 2, 0)));"
   ]
  },
  {
   "cell_type": "code",
   "execution_count": 21,
   "metadata": {},
   "outputs": [
    {
     "data": {
      "image/png": "[encoded data removed]",
      "text/plain": [
       "<Figure size 72x72 with 1 Axes>"
      ]
     },
     "metadata": {
      "needs_background": "light"
     },
     "output_type": "display_data"
    }
   ],
   "source": [
    "x = 2019\n",
    "plt.figure(figsize=(1,1))\n",
    "plt.imshow(test_data[x][0].reshape((28,28)), cmap=\"gist_yarg\");"
   ]
  },
  {
   "cell_type": "code",
   "execution_count": 22,
   "metadata": {},
   "outputs": [
    {
     "name": "stdout",
     "output_type": "stream",
     "text": [
      "Predicted value: 9\n"
     ]
    }
   ],
   "source": [
    "model.eval()\n",
    "with torch.no_grad():\n",
    "    new_pred = model(test_data[x][0].view(1,1,28,28)).argmax()\n",
    "print(\"Predicted value:\",new_pred.item())"
   ]
  },
  {
   "cell_type": "code",
   "execution_count": null,
   "metadata": {},
   "outputs": [],
   "source": []
  }
 ],
 "metadata": {
  "kernelspec": {
   "display_name": "Python 3",
   "language": "python",
   "name": "python3"
  },
  "language_info": {
   "codemirror_mode": {
    "name": "ipython",
    "version": 3
   },
   "file_extension": ".py",
   "mimetype": "text/x-python",
   "name": "python",
   "nbconvert_exporter": "python",
   "pygments_lexer": "ipython3",
   "version": "3.7.3"
  }
 },
 "nbformat": 4,
 "nbformat_minor": 4
}
