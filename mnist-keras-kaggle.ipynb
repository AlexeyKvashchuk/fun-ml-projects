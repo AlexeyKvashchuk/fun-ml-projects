{
 "cells": [
  {
   "cell_type": "code",
   "execution_count": 1,
   "metadata": {
    "_cell_guid": "b1076dfc-b9ad-4769-8c92-a6c4dae69d19",
    "_uuid": "8f2839f25d086af736a60e9eeb907d3b93b6e0e5",
    "execution": {
     "iopub.execute_input": "2021-02-23T20:58:28.909256Z",
     "iopub.status.busy": "2021-02-23T20:58:28.908504Z",
     "iopub.status.idle": "2021-02-23T20:58:28.916941Z",
     "shell.execute_reply": "2021-02-23T20:58:28.917899Z"
    },
    "papermill": {
     "duration": 0.036148,
     "end_time": "2021-02-23T20:58:28.918303",
     "exception": false,
     "start_time": "2021-02-23T20:58:28.882155",
     "status": "completed"
    },
    "tags": []
   },
   "outputs": [
    {
     "name": "stdout",
     "output_type": "stream",
     "text": [
      "/kaggle/input/digit-recognizer/sample_submission.csv\n",
      "/kaggle/input/digit-recognizer/train.csv\n",
      "/kaggle/input/digit-recognizer/test.csv\n"
     ]
    }
   ],
   "source": [
    "# This Python 3 environment comes with many helpful analytics libraries installed\n",
    "# It is defined by the kaggle/python Docker image: https://github.com/kaggle/docker-python\n",
    "# For example, here's several helpful packages to load\n",
    "\n",
    "import numpy as np # linear algebra\n",
    "import pandas as pd # data processing, CSV file I/O (e.g. pd.read_csv)\n",
    "\n",
    "# Input data files are available in the read-only \"../input/\" directory\n",
    "# For example, running this (by clicking run or pressing Shift+Enter) will list all files under the input directory\n",
    "\n",
    "import os\n",
    "for dirname, _, filenames in os.walk('/kaggle/input'):\n",
    "    for filename in filenames:\n",
    "        print(os.path.join(dirname, filename))\n",
    "\n",
    "# You can write up to 20GB to the current directory (/kaggle/working/) that gets preserved as output when you create a version using \"Save & Run All\" \n",
    "# You can also write temporary files to /kaggle/temp/, but they won't be saved outside of the current session"
   ]
  },
  {
   "cell_type": "code",
   "execution_count": 2,
   "metadata": {
    "execution": {
     "iopub.execute_input": "2021-02-23T20:58:28.968575Z",
     "iopub.status.busy": "2021-02-23T20:58:28.967781Z",
     "iopub.status.idle": "2021-02-23T20:58:36.981823Z",
     "shell.execute_reply": "2021-02-23T20:58:36.980476Z"
    },
    "papermill": {
     "duration": 8.044058,
     "end_time": "2021-02-23T20:58:36.981989",
     "exception": false,
     "start_time": "2021-02-23T20:58:28.937931",
     "status": "completed"
    },
    "tags": []
   },
   "outputs": [],
   "source": [
    "import pandas as pd\n",
    "import numpy as np\n",
    "import matplotlib.pyplot as plt\n",
    "import matplotlib.image as mpimg\n",
    "import seaborn as sns\n",
    "%matplotlib inline\n",
    "\n",
    "np.random.seed(2)\n",
    "\n",
    "from sklearn.model_selection import train_test_split\n",
    "from sklearn.metrics import confusion_matrix\n",
    "import itertools\n",
    "\n",
    "from keras.utils.np_utils import to_categorical # convert to one-hot-encoding\n",
    "from keras.models import Sequential\n",
    "from keras.layers import Dense, Dropout, Flatten, Conv2D, MaxPool2D\n",
    "from keras.optimizers import RMSprop\n",
    "from keras.preprocessing.image import ImageDataGenerator\n",
    "from keras.callbacks import ReduceLROnPlateau\n",
    "\n",
    "\n",
    "sns.set(style='white', context='notebook', palette='deep')"
   ]
  },
  {
   "cell_type": "code",
   "execution_count": 3,
   "metadata": {
    "execution": {
     "iopub.execute_input": "2021-02-23T20:58:37.026691Z",
     "iopub.status.busy": "2021-02-23T20:58:37.025947Z",
     "iopub.status.idle": "2021-02-23T20:58:43.829256Z",
     "shell.execute_reply": "2021-02-23T20:58:43.828215Z"
    },
    "papermill": {
     "duration": 6.828422,
     "end_time": "2021-02-23T20:58:43.829430",
     "exception": false,
     "start_time": "2021-02-23T20:58:37.001008",
     "status": "completed"
    },
    "tags": []
   },
   "outputs": [],
   "source": [
    "# Load the data\n",
    "train = pd.read_csv(\"/kaggle/input/digit-recognizer/train.csv\")\n",
    "test = pd.read_csv(\"/kaggle/input/digit-recognizer/test.csv\")"
   ]
  },
  {
   "cell_type": "code",
   "execution_count": 4,
   "metadata": {
    "execution": {
     "iopub.execute_input": "2021-02-23T20:58:43.878467Z",
     "iopub.status.busy": "2021-02-23T20:58:43.877433Z",
     "iopub.status.idle": "2021-02-23T20:58:44.259521Z",
     "shell.execute_reply": "2021-02-23T20:58:44.260125Z"
    },
    "papermill": {
     "duration": 0.411843,
     "end_time": "2021-02-23T20:58:44.260317",
     "exception": false,
     "start_time": "2021-02-23T20:58:43.848474",
     "status": "completed"
    },
    "tags": []
   },
   "outputs": [
    {
     "name": "stderr",
     "output_type": "stream",
     "text": [
      "/opt/conda/lib/python3.7/site-packages/seaborn/_decorators.py:43: FutureWarning: Pass the following variable as a keyword arg: x. From version 0.12, the only valid positional argument will be `data`, and passing other arguments without an explicit keyword will result in an error or misinterpretation.\n",
      "  FutureWarning\n"
     ]
    },
    {
     "data": {
      "text/plain": [
       "1    4684\n",
       "7    4401\n",
       "3    4351\n",
       "9    4188\n",
       "2    4177\n",
       "6    4137\n",
       "0    4132\n",
       "4    4072\n",
       "8    4063\n",
       "5    3795\n",
       "Name: label, dtype: int64"
      ]
     },
     "execution_count": 4,
     "metadata": {},
     "output_type": "execute_result"
    },
    {
     "data": {
      "image/png": "[encoded data removed]",
      "text/plain": [
       "<Figure size 432x288 with 1 Axes>"
      ]
     },
     "metadata": {},
     "output_type": "display_data"
    }
   ],
   "source": [
    "Y_train = train[\"label\"]\n",
    "\n",
    "# Drop 'label' column\n",
    "X_train = train.drop(labels = [\"label\"],axis = 1) \n",
    "\n",
    "# free some space\n",
    "del train \n",
    "\n",
    "g = sns.countplot(Y_train)\n",
    "\n",
    "Y_train.value_counts()"
   ]
  },
  {
   "cell_type": "code",
   "execution_count": 5,
   "metadata": {
    "execution": {
     "iopub.execute_input": "2021-02-23T20:58:44.308107Z",
     "iopub.status.busy": "2021-02-23T20:58:44.307339Z",
     "iopub.status.idle": "2021-02-23T20:58:44.504719Z",
     "shell.execute_reply": "2021-02-23T20:58:44.504015Z"
    },
    "papermill": {
     "duration": 0.223683,
     "end_time": "2021-02-23T20:58:44.504887",
     "exception": false,
     "start_time": "2021-02-23T20:58:44.281204",
     "status": "completed"
    },
    "tags": []
   },
   "outputs": [],
   "source": [
    "# Normalize the data\n",
    "X_train = X_train / 255.0\n",
    "test = test / 255.0"
   ]
  },
  {
   "cell_type": "code",
   "execution_count": 6,
   "metadata": {
    "execution": {
     "iopub.execute_input": "2021-02-23T20:58:44.552403Z",
     "iopub.status.busy": "2021-02-23T20:58:44.551693Z",
     "iopub.status.idle": "2021-02-23T20:58:44.556498Z",
     "shell.execute_reply": "2021-02-23T20:58:44.555829Z"
    },
    "papermill": {
     "duration": 0.031138,
     "end_time": "2021-02-23T20:58:44.556674",
     "exception": false,
     "start_time": "2021-02-23T20:58:44.525536",
     "status": "completed"
    },
    "tags": []
   },
   "outputs": [],
   "source": [
    "# Reshape image in 3 dimensions (height = 28px, width = 28px , canal = 1)\n",
    "X_train = X_train.values.reshape(-1,28,28,1)\n",
    "test = test.values.reshape(-1,28,28,1)"
   ]
  },
  {
   "cell_type": "code",
   "execution_count": 7,
   "metadata": {
    "execution": {
     "iopub.execute_input": "2021-02-23T20:58:44.603572Z",
     "iopub.status.busy": "2021-02-23T20:58:44.602852Z",
     "iopub.status.idle": "2021-02-23T20:58:44.609853Z",
     "shell.execute_reply": "2021-02-23T20:58:44.609241Z"
    },
    "papermill": {
     "duration": 0.032471,
     "end_time": "2021-02-23T20:58:44.610012",
     "exception": false,
     "start_time": "2021-02-23T20:58:44.577541",
     "status": "completed"
    },
    "tags": []
   },
   "outputs": [],
   "source": [
    "# Encode labels to one hot vectors (ex : 2 -> [0,0,1,0,0,0,0,0,0,0])\n",
    "Y_train = to_categorical(Y_train, num_classes = 10)"
   ]
  },
  {
   "cell_type": "code",
   "execution_count": 8,
   "metadata": {
    "execution": {
     "iopub.execute_input": "2021-02-23T20:58:44.660281Z",
     "iopub.status.busy": "2021-02-23T20:58:44.658191Z",
     "iopub.status.idle": "2021-02-23T20:58:44.661048Z",
     "shell.execute_reply": "2021-02-23T20:58:44.661586Z"
    },
    "papermill": {
     "duration": 0.03073,
     "end_time": "2021-02-23T20:58:44.661770",
     "exception": false,
     "start_time": "2021-02-23T20:58:44.631040",
     "status": "completed"
    },
    "tags": []
   },
   "outputs": [],
   "source": [
    "# Set the random seed\n",
    "random_seed = 42"
   ]
  },
  {
   "cell_type": "code",
   "execution_count": 9,
   "metadata": {
    "execution": {
     "iopub.execute_input": "2021-02-23T20:58:44.713042Z",
     "iopub.status.busy": "2021-02-23T20:58:44.711658Z",
     "iopub.status.idle": "2021-02-23T20:58:45.103664Z",
     "shell.execute_reply": "2021-02-23T20:58:45.103064Z"
    },
    "papermill": {
     "duration": 0.420827,
     "end_time": "2021-02-23T20:58:45.103833",
     "exception": false,
     "start_time": "2021-02-23T20:58:44.683006",
     "status": "completed"
    },
    "tags": []
   },
   "outputs": [],
   "source": [
    "# Split the train and the validation set for the fitting\n",
    "X_train, X_val, Y_train, Y_val = train_test_split(X_train, Y_train, test_size = 0.1, random_state=random_seed)"
   ]
  },
  {
   "cell_type": "code",
   "execution_count": 10,
   "metadata": {
    "execution": {
     "iopub.execute_input": "2021-02-23T20:58:45.172130Z",
     "iopub.status.busy": "2021-02-23T20:58:45.170980Z",
     "iopub.status.idle": "2021-02-23T20:58:45.367932Z",
     "shell.execute_reply": "2021-02-23T20:58:45.368575Z"
    },
    "papermill": {
     "duration": 0.24291,
     "end_time": "2021-02-23T20:58:45.368787",
     "exception": false,
     "start_time": "2021-02-23T20:58:45.125877",
     "status": "completed"
    },
    "tags": []
   },
   "outputs": [
    {
     "data": {
      "image/png": "[encoded data removed]",
      "text/plain": [
       "<Figure size 432x288 with 1 Axes>"
      ]
     },
     "metadata": {},
     "output_type": "display_data"
    }
   ],
   "source": [
    "# Some examples\n",
    "g = plt.imshow(X_train[0][:,:,0])"
   ]
  },
  {
   "cell_type": "code",
   "execution_count": 11,
   "metadata": {
    "execution": {
     "iopub.execute_input": "2021-02-23T20:58:45.426063Z",
     "iopub.status.busy": "2021-02-23T20:58:45.423710Z",
     "iopub.status.idle": "2021-02-23T20:58:49.022202Z",
     "shell.execute_reply": "2021-02-23T20:58:49.021423Z"
    },
    "papermill": {
     "duration": 3.629338,
     "end_time": "2021-02-23T20:58:49.022360",
     "exception": false,
     "start_time": "2021-02-23T20:58:45.393022",
     "status": "completed"
    },
    "tags": []
   },
   "outputs": [],
   "source": [
    "# Set the CNN model \n",
    "# my CNN architechture is In -> [[Conv2D->relu]*2 -> MaxPool2D -> Dropout]*2 -> Flatten -> Dense -> Dropout -> Out\n",
    "\n",
    "model = Sequential()\n",
    "\n",
    "model.add(Conv2D(filters = 32, kernel_size = (5,5),padding = 'Same', \n",
    "                 activation ='relu', input_shape = (28,28,1)))\n",
    "model.add(Conv2D(filters = 32, kernel_size = (5,5),padding = 'Same', \n",
    "                 activation ='relu'))\n",
    "model.add(MaxPool2D(pool_size=(2,2)))\n",
    "model.add(Dropout(0.25))\n",
    "\n",
    "\n",
    "model.add(Conv2D(filters = 64, kernel_size = (3,3),padding = 'Same', \n",
    "                 activation ='relu'))\n",
    "model.add(Conv2D(filters = 64, kernel_size = (3,3),padding = 'Same', \n",
    "                 activation ='relu'))\n",
    "model.add(MaxPool2D(pool_size=(2,2), strides=(2,2)))\n",
    "model.add(Dropout(0.25))\n",
    "\n",
    "\n",
    "model.add(Flatten())\n",
    "model.add(Dense(256, activation = \"relu\"))\n",
    "model.add(Dropout(0.5))\n",
    "model.add(Dense(10, activation = \"softmax\"))"
   ]
  },
  {
   "cell_type": "code",
   "execution_count": 12,
   "metadata": {
    "execution": {
     "iopub.execute_input": "2021-02-23T20:58:49.074675Z",
     "iopub.status.busy": "2021-02-23T20:58:49.073879Z",
     "iopub.status.idle": "2021-02-23T20:58:49.077953Z",
     "shell.execute_reply": "2021-02-23T20:58:49.077351Z"
    },
    "papermill": {
     "duration": 0.032372,
     "end_time": "2021-02-23T20:58:49.078103",
     "exception": false,
     "start_time": "2021-02-23T20:58:49.045731",
     "status": "completed"
    },
    "tags": []
   },
   "outputs": [],
   "source": [
    "# Define the optimizer\n",
    "optimizer = RMSprop(lr=0.001, rho=0.9, epsilon=1e-08, decay=0.0)"
   ]
  },
  {
   "cell_type": "code",
   "execution_count": 13,
   "metadata": {
    "execution": {
     "iopub.execute_input": "2021-02-23T20:58:49.137455Z",
     "iopub.status.busy": "2021-02-23T20:58:49.136374Z",
     "iopub.status.idle": "2021-02-23T20:58:49.144437Z",
     "shell.execute_reply": "2021-02-23T20:58:49.143848Z"
    },
    "papermill": {
     "duration": 0.043458,
     "end_time": "2021-02-23T20:58:49.144627",
     "exception": false,
     "start_time": "2021-02-23T20:58:49.101169",
     "status": "completed"
    },
    "tags": []
   },
   "outputs": [],
   "source": [
    "# Compile the model\n",
    "model.compile(optimizer = optimizer , loss = \"categorical_crossentropy\", metrics=[\"accuracy\"])"
   ]
  },
  {
   "cell_type": "code",
   "execution_count": 14,
   "metadata": {
    "execution": {
     "iopub.execute_input": "2021-02-23T20:58:49.198105Z",
     "iopub.status.busy": "2021-02-23T20:58:49.196340Z",
     "iopub.status.idle": "2021-02-23T20:58:49.198867Z",
     "shell.execute_reply": "2021-02-23T20:58:49.199391Z"
    },
    "papermill": {
     "duration": 0.031931,
     "end_time": "2021-02-23T20:58:49.199596",
     "exception": false,
     "start_time": "2021-02-23T20:58:49.167665",
     "status": "completed"
    },
    "tags": []
   },
   "outputs": [],
   "source": [
    "# Set a learning rate annealer\n",
    "learning_rate_reduction = ReduceLROnPlateau(monitor='val_acc', \n",
    "                                            patience=3, \n",
    "                                            verbose=1, \n",
    "                                            factor=0.5, \n",
    "                                            min_lr=0.00001)"
   ]
  },
  {
   "cell_type": "code",
   "execution_count": 15,
   "metadata": {
    "execution": {
     "iopub.execute_input": "2021-02-23T20:58:49.250533Z",
     "iopub.status.busy": "2021-02-23T20:58:49.249850Z",
     "iopub.status.idle": "2021-02-23T20:58:49.254737Z",
     "shell.execute_reply": "2021-02-23T20:58:49.254168Z"
    },
    "papermill": {
     "duration": 0.032415,
     "end_time": "2021-02-23T20:58:49.254891",
     "exception": false,
     "start_time": "2021-02-23T20:58:49.222476",
     "status": "completed"
    },
    "tags": []
   },
   "outputs": [],
   "source": [
    "epochs = 30 # Turn epochs to 30 to get 0.9967 accuracy\n",
    "batch_size = 86"
   ]
  },
  {
   "cell_type": "code",
   "execution_count": 16,
   "metadata": {
    "execution": {
     "iopub.execute_input": "2021-02-23T20:58:49.306705Z",
     "iopub.status.busy": "2021-02-23T20:58:49.305855Z",
     "iopub.status.idle": "2021-02-23T20:58:49.309212Z",
     "shell.execute_reply": "2021-02-23T20:58:49.308477Z"
    },
    "papermill": {
     "duration": 0.031476,
     "end_time": "2021-02-23T20:58:49.309374",
     "exception": false,
     "start_time": "2021-02-23T20:58:49.277898",
     "status": "completed"
    },
    "tags": []
   },
   "outputs": [],
   "source": [
    "# Without data augmentation i obtained an accuracy of 0.98114\n",
    "#history = model.fit(X_train, Y_train, batch_size = batch_size, epochs = epochs, \n",
    "#          validation_data = (X_val, Y_val), verbose = 2)"
   ]
  },
  {
   "cell_type": "code",
   "execution_count": 17,
   "metadata": {
    "execution": {
     "iopub.execute_input": "2021-02-23T20:58:49.364175Z",
     "iopub.status.busy": "2021-02-23T20:58:49.362803Z",
     "iopub.status.idle": "2021-02-23T20:58:49.460093Z",
     "shell.execute_reply": "2021-02-23T20:58:49.459466Z"
    },
    "papermill": {
     "duration": 0.127653,
     "end_time": "2021-02-23T20:58:49.460258",
     "exception": false,
     "start_time": "2021-02-23T20:58:49.332605",
     "status": "completed"
    },
    "tags": []
   },
   "outputs": [],
   "source": [
    "# With data augmentation to prevent overfitting (accuracy 0.99286)\n",
    "\n",
    "datagen = ImageDataGenerator(featurewise_center=False,  # set input mean to 0 over the dataset\n",
    "                             samplewise_center=False,  # set each sample mean to 0\n",
    "                             featurewise_std_normalization=False,  # divide inputs by std of the dataset\n",
    "                             samplewise_std_normalization=False,  # divide each input by its std\n",
    "                             zca_whitening=False,  # apply ZCA whitening\n",
    "                             rotation_range=10,  # randomly rotate images in the range (degrees, 0 to 180)\n",
    "                             zoom_range = 0.1, # Randomly zoom image \n",
    "                             width_shift_range=0.1,  # randomly shift images horizontally (fraction of total width)\n",
    "                             height_shift_range=0.1,  # randomly shift images vertically (fraction of total height)\n",
    "                             horizontal_flip=False,  # randomly flip images\n",
    "                             vertical_flip=False)  # randomly flip images\n",
    "\n",
    "datagen.fit(X_train)"
   ]
  },
  {
   "cell_type": "code",
   "execution_count": 18,
   "metadata": {
    "execution": {
     "iopub.execute_input": "2021-02-23T20:58:49.514938Z",
     "iopub.status.busy": "2021-02-23T20:58:49.513570Z",
     "iopub.status.idle": "2021-02-23T21:06:47.657015Z",
     "shell.execute_reply": "2021-02-23T21:06:47.655666Z"
    },
    "papermill": {
     "duration": 478.173332,
     "end_time": "2021-02-23T21:06:47.657208",
     "exception": false,
     "start_time": "2021-02-23T20:58:49.483876",
     "status": "completed"
    },
    "tags": []
   },
   "outputs": [
    {
     "name": "stdout",
     "output_type": "stream",
     "text": [
      "Epoch 1/30\n",
      "439/439 [==============================] - 21s 37ms/step - loss: 0.8014 - accuracy: 0.7315 - val_loss: 0.0521 - val_accuracy: 0.9831\n",
      "Epoch 2/30\n",
      "439/439 [==============================] - 15s 35ms/step - loss: 0.1384 - accuracy: 0.9600 - val_loss: 0.0361 - val_accuracy: 0.9888\n",
      "Epoch 3/30\n",
      "439/439 [==============================] - 16s 36ms/step - loss: 0.0966 - accuracy: 0.9719 - val_loss: 0.0447 - val_accuracy: 0.9900\n",
      "Epoch 4/30\n",
      "439/439 [==============================] - 15s 35ms/step - loss: 0.0774 - accuracy: 0.9762 - val_loss: 0.0308 - val_accuracy: 0.9902\n",
      "Epoch 5/30\n",
      "439/439 [==============================] - 16s 36ms/step - loss: 0.0689 - accuracy: 0.9789 - val_loss: 0.0277 - val_accuracy: 0.9907\n",
      "Epoch 6/30\n",
      "439/439 [==============================] - 15s 35ms/step - loss: 0.0665 - accuracy: 0.9809 - val_loss: 0.0325 - val_accuracy: 0.9893\n",
      "Epoch 7/30\n",
      "439/439 [==============================] - 16s 36ms/step - loss: 0.0684 - accuracy: 0.9822 - val_loss: 0.0321 - val_accuracy: 0.9907\n",
      "Epoch 8/30\n",
      "439/439 [==============================] - 15s 35ms/step - loss: 0.0599 - accuracy: 0.9825 - val_loss: 0.0272 - val_accuracy: 0.9910\n",
      "Epoch 9/30\n",
      "439/439 [==============================] - 15s 34ms/step - loss: 0.0558 - accuracy: 0.9839 - val_loss: 0.0309 - val_accuracy: 0.9905\n",
      "Epoch 10/30\n",
      "439/439 [==============================] - 16s 37ms/step - loss: 0.0518 - accuracy: 0.9849 - val_loss: 0.0289 - val_accuracy: 0.9926\n",
      "Epoch 11/30\n",
      "439/439 [==============================] - 15s 33ms/step - loss: 0.0542 - accuracy: 0.9848 - val_loss: 0.0237 - val_accuracy: 0.9926\n",
      "Epoch 12/30\n",
      "439/439 [==============================] - 16s 37ms/step - loss: 0.0555 - accuracy: 0.9841 - val_loss: 0.0282 - val_accuracy: 0.9914\n",
      "Epoch 13/30\n",
      "439/439 [==============================] - 15s 33ms/step - loss: 0.0550 - accuracy: 0.9853 - val_loss: 0.0264 - val_accuracy: 0.9933\n",
      "Epoch 14/30\n",
      "439/439 [==============================] - 17s 38ms/step - loss: 0.0581 - accuracy: 0.9841 - val_loss: 0.0387 - val_accuracy: 0.9902\n",
      "Epoch 15/30\n",
      "439/439 [==============================] - 15s 34ms/step - loss: 0.0661 - accuracy: 0.9824 - val_loss: 0.0313 - val_accuracy: 0.9907\n",
      "Epoch 16/30\n",
      "439/439 [==============================] - 17s 38ms/step - loss: 0.0560 - accuracy: 0.9835 - val_loss: 0.0350 - val_accuracy: 0.9912\n",
      "Epoch 17/30\n",
      "439/439 [==============================] - 15s 35ms/step - loss: 0.0561 - accuracy: 0.9846 - val_loss: 0.0312 - val_accuracy: 0.9919\n",
      "Epoch 18/30\n",
      "439/439 [==============================] - 16s 38ms/step - loss: 0.0539 - accuracy: 0.9860 - val_loss: 0.0369 - val_accuracy: 0.9921\n",
      "Epoch 19/30\n",
      "439/439 [==============================] - 15s 35ms/step - loss: 0.0556 - accuracy: 0.9846 - val_loss: 0.0284 - val_accuracy: 0.9912\n",
      "Epoch 20/30\n",
      "439/439 [==============================] - 17s 38ms/step - loss: 0.0659 - accuracy: 0.9840 - val_loss: 0.0273 - val_accuracy: 0.9936\n",
      "Epoch 21/30\n",
      "439/439 [==============================] - 15s 34ms/step - loss: 0.0678 - accuracy: 0.9823 - val_loss: 0.0385 - val_accuracy: 0.9921\n",
      "Epoch 22/30\n",
      "439/439 [==============================] - 17s 39ms/step - loss: 0.0689 - accuracy: 0.9830 - val_loss: 0.0356 - val_accuracy: 0.9895\n",
      "Epoch 23/30\n",
      "439/439 [==============================] - 15s 34ms/step - loss: 0.0617 - accuracy: 0.9850 - val_loss: 0.0343 - val_accuracy: 0.9919\n",
      "Epoch 24/30\n",
      "439/439 [==============================] - 17s 38ms/step - loss: 0.0663 - accuracy: 0.9827 - val_loss: 0.0422 - val_accuracy: 0.9893\n",
      "Epoch 25/30\n",
      "439/439 [==============================] - 15s 34ms/step - loss: 0.0661 - accuracy: 0.9831 - val_loss: 0.0541 - val_accuracy: 0.9902\n",
      "Epoch 26/30\n",
      "439/439 [==============================] - 16s 36ms/step - loss: 0.0635 - accuracy: 0.9831 - val_loss: 0.0406 - val_accuracy: 0.9902\n",
      "Epoch 27/30\n",
      "439/439 [==============================] - 16s 37ms/step - loss: 0.0686 - accuracy: 0.9827 - val_loss: 0.0456 - val_accuracy: 0.9912\n",
      "Epoch 28/30\n",
      "439/439 [==============================] - 16s 36ms/step - loss: 0.0679 - accuracy: 0.9832 - val_loss: 0.0471 - val_accuracy: 0.9917\n",
      "Epoch 29/30\n",
      "439/439 [==============================] - 17s 38ms/step - loss: 0.0703 - accuracy: 0.9831 - val_loss: 0.0438 - val_accuracy: 0.9907\n",
      "Epoch 30/30\n",
      "439/439 [==============================] - 16s 35ms/step - loss: 0.0727 - accuracy: 0.9826 - val_loss: 0.1191 - val_accuracy: 0.9881\n"
     ]
    }
   ],
   "source": [
    "# Fit the model\n",
    "history = model.fit(datagen.flow(X_train,Y_train, batch_size=batch_size),\n",
    "                    epochs = epochs, \n",
    "                    validation_data = (X_val,Y_val),\n",
    "                    #verbose = 2, \n",
    "                    steps_per_epoch=X_train.shape[0] // batch_size, \n",
    "                    callbacks=[learning_rate_reduction])"
   ]
  },
  {
   "cell_type": "code",
   "execution_count": 19,
   "metadata": {
    "execution": {
     "iopub.execute_input": "2021-02-23T21:06:53.074578Z",
     "iopub.status.busy": "2021-02-23T21:06:53.073747Z",
     "iopub.status.idle": "2021-02-23T21:06:53.657347Z",
     "shell.execute_reply": "2021-02-23T21:06:53.656711Z"
    },
    "papermill": {
     "duration": 3.28972,
     "end_time": "2021-02-23T21:06:53.657519",
     "exception": false,
     "start_time": "2021-02-23T21:06:50.367799",
     "status": "completed"
    },
    "tags": []
   },
   "outputs": [
    {
     "data": {
      "text/plain": [
       "<AxesSubplot:>"
      ]
     },
     "execution_count": 19,
     "metadata": {},
     "output_type": "execute_result"
    },
    {
     "data": {
      "image/png": "[encoded data removed]",
      "text/plain": [
       "<Figure size 432x288 with 1 Axes>"
      ]
     },
     "metadata": {},
     "output_type": "display_data"
    },
    {
     "data": {
      "image/png": "[encoded data removed]",
      "text/plain": [
       "<Figure size 432x288 with 1 Axes>"
      ]
     },
     "metadata": {},
     "output_type": "display_data"
    }
   ],
   "source": [
    "metrics = pd.DataFrame(model.history.history)\n",
    "metrics[['loss','val_loss']].plot(grid=True)\n",
    "metrics[['accuracy','val_accuracy']].plot(grid=True)"
   ]
  },
  {
   "cell_type": "code",
   "execution_count": 20,
   "metadata": {
    "execution": {
     "iopub.execute_input": "2021-02-23T21:06:59.309621Z",
     "iopub.status.busy": "2021-02-23T21:06:59.308106Z",
     "iopub.status.idle": "2021-02-23T21:07:00.758704Z",
     "shell.execute_reply": "2021-02-23T21:07:00.758117Z"
    },
    "papermill": {
     "duration": 4.258438,
     "end_time": "2021-02-23T21:07:00.758866",
     "exception": false,
     "start_time": "2021-02-23T21:06:56.500428",
     "status": "completed"
    },
    "tags": []
   },
   "outputs": [
    {
     "data": {
      "image/png": "[encoded data removed]",
      "text/plain": [
       "<Figure size 432x288 with 2 Axes>"
      ]
     },
     "metadata": {},
     "output_type": "display_data"
    }
   ],
   "source": [
    "# Look at confusion matrix \n",
    "\n",
    "def plot_confusion_matrix(cm, classes,\n",
    "                          normalize=False,\n",
    "                          title='Confusion matrix',\n",
    "                          cmap=plt.cm.Blues):\n",
    "    \"\"\"\n",
    "    This function prints and plots the confusion matrix.\n",
    "    Normalization can be applied by setting `normalize=True`.\n",
    "    \"\"\"\n",
    "    plt.imshow(cm, interpolation='nearest', cmap=cmap)\n",
    "    plt.title(title)\n",
    "    plt.colorbar()\n",
    "    tick_marks = np.arange(len(classes))\n",
    "    plt.xticks(tick_marks, classes, rotation=45)\n",
    "    plt.yticks(tick_marks, classes)\n",
    "\n",
    "    if normalize:\n",
    "        cm = cm.astype('float') / cm.sum(axis=1)[:, np.newaxis]\n",
    "\n",
    "    thresh = cm.max() / 2.\n",
    "    for i, j in itertools.product(range(cm.shape[0]), range(cm.shape[1])):\n",
    "        plt.text(j, i, cm[i, j],\n",
    "                 horizontalalignment=\"center\",\n",
    "                 color=\"white\" if cm[i, j] > thresh else \"black\")\n",
    "\n",
    "    plt.tight_layout()\n",
    "    plt.ylabel('True label')\n",
    "    plt.xlabel('Predicted label')\n",
    "\n",
    "# Predict the values from the validation dataset\n",
    "Y_pred = model.predict(X_val)\n",
    "# Convert predictions classes to one hot vectors \n",
    "Y_pred_classes = np.argmax(Y_pred,axis = 1) \n",
    "# Convert validation observations to one hot vectors\n",
    "Y_true = np.argmax(Y_val,axis = 1) \n",
    "# compute the confusion matrix\n",
    "confusion_mtx = confusion_matrix(Y_true, Y_pred_classes) \n",
    "# plot the confusion matrix\n",
    "plot_confusion_matrix(confusion_mtx, classes = range(10)) "
   ]
  },
  {
   "cell_type": "code",
   "execution_count": 21,
   "metadata": {
    "execution": {
     "iopub.execute_input": "2021-02-23T21:07:06.146929Z",
     "iopub.status.busy": "2021-02-23T21:07:06.145855Z",
     "iopub.status.idle": "2021-02-23T21:07:06.861357Z",
     "shell.execute_reply": "2021-02-23T21:07:06.861926Z"
    },
    "papermill": {
     "duration": 3.3842,
     "end_time": "2021-02-23T21:07:06.862125",
     "exception": false,
     "start_time": "2021-02-23T21:07:03.477925",
     "status": "completed"
    },
    "tags": []
   },
   "outputs": [
    {
     "data": {
      "image/png": "[encoded data removed]",
      "text/plain": [
       "<Figure size 432x288 with 6 Axes>"
      ]
     },
     "metadata": {},
     "output_type": "display_data"
    }
   ],
   "source": [
    "# Display some error results \n",
    "\n",
    "# Errors are difference between predicted labels and true labels\n",
    "errors = (Y_pred_classes - Y_true != 0)\n",
    "\n",
    "Y_pred_classes_errors = Y_pred_classes[errors]\n",
    "Y_pred_errors = Y_pred[errors]\n",
    "Y_true_errors = Y_true[errors]\n",
    "X_val_errors = X_val[errors]\n",
    "\n",
    "def display_errors(errors_index,img_errors,pred_errors, obs_errors):\n",
    "    \"\"\" This function shows 6 images with their predicted and real labels\"\"\"\n",
    "    n = 0\n",
    "    nrows = 2\n",
    "    ncols = 3\n",
    "    fig, ax = plt.subplots(nrows,ncols,sharex=True,sharey=True)\n",
    "    for row in range(nrows):\n",
    "        for col in range(ncols):\n",
    "            error = errors_index[n]\n",
    "            ax[row,col].imshow((img_errors[error]).reshape((28,28)))\n",
    "            ax[row,col].set_title(\"Predicted label :{}\\nTrue label :{}\".format(pred_errors[error],obs_errors[error]))\n",
    "            n += 1\n",
    "\n",
    "# Probabilities of the wrong predicted numbers\n",
    "Y_pred_errors_prob = np.max(Y_pred_errors,axis = 1)\n",
    "\n",
    "# Predicted probabilities of the true values in the error set\n",
    "true_prob_errors = np.diagonal(np.take(Y_pred_errors, Y_true_errors, axis=1))\n",
    "\n",
    "# Difference between the probability of the predicted label and the true label\n",
    "delta_pred_true_errors = Y_pred_errors_prob - true_prob_errors\n",
    "\n",
    "# Sorted list of the delta prob errors\n",
    "sorted_dela_errors = np.argsort(delta_pred_true_errors)\n",
    "\n",
    "# Top 6 errors \n",
    "most_important_errors = sorted_dela_errors[-6:]\n",
    "\n",
    "# Show the top 6 errors\n",
    "display_errors(most_important_errors, X_val_errors, Y_pred_classes_errors, Y_true_errors)"
   ]
  },
  {
   "cell_type": "code",
   "execution_count": 22,
   "metadata": {
    "execution": {
     "iopub.execute_input": "2021-02-23T21:07:12.424914Z",
     "iopub.status.busy": "2021-02-23T21:07:12.423745Z",
     "iopub.status.idle": "2021-02-23T21:07:13.811859Z",
     "shell.execute_reply": "2021-02-23T21:07:13.810191Z"
    },
    "papermill": {
     "duration": 4.054526,
     "end_time": "2021-02-23T21:07:13.812034",
     "exception": false,
     "start_time": "2021-02-23T21:07:09.757508",
     "status": "completed"
    },
    "tags": []
   },
   "outputs": [],
   "source": [
    "# predict results\n",
    "results = model.predict(test)\n",
    "\n",
    "# select the indix with the maximum probability\n",
    "results = np.argmax(results,axis = 1)\n",
    "\n",
    "results = pd.Series(results,name=\"Label\")"
   ]
  },
  {
   "cell_type": "code",
   "execution_count": 23,
   "metadata": {
    "execution": {
     "iopub.execute_input": "2021-02-23T21:07:19.736944Z",
     "iopub.status.busy": "2021-02-23T21:07:19.735982Z",
     "iopub.status.idle": "2021-02-23T21:07:20.001707Z",
     "shell.execute_reply": "2021-02-23T21:07:20.003077Z"
    },
    "papermill": {
     "duration": 3.46419,
     "end_time": "2021-02-23T21:07:20.003336",
     "exception": false,
     "start_time": "2021-02-23T21:07:16.539146",
     "status": "completed"
    },
    "tags": []
   },
   "outputs": [],
   "source": [
    "submission = pd.concat([pd.Series(range(1,28001),name = \"ImageId\"),results],axis = 1)\n",
    "\n",
    "submission.to_csv(\"cnn_mnist_datagen.csv\",index=False)"
   ]
  },
  {
   "cell_type": "code",
   "execution_count": null,
   "metadata": {
    "papermill": {
     "duration": 2.701747,
     "end_time": "2021-02-23T21:07:25.477085",
     "exception": false,
     "start_time": "2021-02-23T21:07:22.775338",
     "status": "completed"
    },
    "tags": []
   },
   "outputs": [],
   "source": []
  }
 ],
 "metadata": {
  "kernelspec": {
   "display_name": "Python 3",
   "language": "python",
   "name": "python3"
  },
  "language_info": {
   "codemirror_mode": {
    "name": "ipython",
    "version": 3
   },
   "file_extension": ".py",
   "mimetype": "text/x-python",
   "name": "python",
   "nbconvert_exporter": "python",
   "pygments_lexer": "ipython3",
   "version": "3.7.9"
  },
  "papermill": {
   "default_parameters": {},
   "duration": 549.671246,
   "end_time": "2021-02-23T21:07:31.780852",
   "environment_variables": {},
   "exception": null,
   "input_path": "__notebook__.ipynb",
   "output_path": "__notebook__.ipynb",
   "parameters": {},
   "start_time": "2021-02-23T20:58:22.109606",
   "version": "2.2.2"
  }
 },
 "nbformat": 4,
 "nbformat_minor": 4
}
