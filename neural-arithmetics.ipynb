{
 "cells": [
  {
   "cell_type": "code",
   "execution_count": 1,
   "id": "0792fb7a-73a8-427d-800f-1b7660dd7994",
   "metadata": {},
   "outputs": [],
   "source": [
    "import numpy as np\n",
    "import pandas as pd\n",
    "import matplotlib.pyplot as plt\n",
    "\n",
    "from tensorflow import keras\n",
    "from keras.layers import Dense, Input, Dropout, BatchNormalization, LSTM, GRU"
   ]
  },
  {
   "cell_type": "code",
   "execution_count": 50,
   "id": "96dc2151-8bfc-44f1-9913-4da7dd6df33a",
   "metadata": {},
   "outputs": [],
   "source": [
    "N = 100\n",
    "X = pd.DataFrame({'a' : [np.random.randint(N) for i in range(N)], 'b' : [np.random.randint(N) for i in range(N)]})"
   ]
  },
  {
   "cell_type": "code",
   "execution_count": 51,
   "id": "f170fe4a-e822-43df-999a-8899ff47b489",
   "metadata": {},
   "outputs": [
    {
     "data": {
      "text/html": [
       "<div>\n",
       "<style scoped>\n",
       "    .dataframe tbody tr th:only-of-type {\n",
       "        vertical-align: middle;\n",
       "    }\n",
       "\n",
       "    .dataframe tbody tr th {\n",
       "        vertical-align: top;\n",
       "    }\n",
       "\n",
       "    .dataframe thead th {\n",
       "        text-align: right;\n",
       "    }\n",
       "</style>\n",
       "<table border=\"1\" class=\"dataframe\">\n",
       "  <thead>\n",
       "    <tr style=\"text-align: right;\">\n",
       "      <th></th>\n",
       "      <th>a</th>\n",
       "      <th>b</th>\n",
       "    </tr>\n",
       "  </thead>\n",
       "  <tbody>\n",
       "    <tr>\n",
       "      <th>0</th>\n",
       "      <td>61</td>\n",
       "      <td>93</td>\n",
       "    </tr>\n",
       "    <tr>\n",
       "      <th>1</th>\n",
       "      <td>16</td>\n",
       "      <td>68</td>\n",
       "    </tr>\n",
       "    <tr>\n",
       "      <th>2</th>\n",
       "      <td>7</td>\n",
       "      <td>32</td>\n",
       "    </tr>\n",
       "    <tr>\n",
       "      <th>3</th>\n",
       "      <td>9</td>\n",
       "      <td>38</td>\n",
       "    </tr>\n",
       "    <tr>\n",
       "      <th>4</th>\n",
       "      <td>43</td>\n",
       "      <td>71</td>\n",
       "    </tr>\n",
       "  </tbody>\n",
       "</table>\n",
       "</div>"
      ],
      "text/plain": [
       "    a   b\n",
       "0  61  93\n",
       "1  16  68\n",
       "2   7  32\n",
       "3   9  38\n",
       "4  43  71"
      ]
     },
     "execution_count": 51,
     "metadata": {},
     "output_type": "execute_result"
    }
   ],
   "source": [
    "X.head()"
   ]
  },
  {
   "cell_type": "code",
   "execution_count": 52,
   "id": "c7dc3564-2e54-4040-b6a6-452e18c9985a",
   "metadata": {},
   "outputs": [],
   "source": [
    "y = X['a'] + X['b']"
   ]
  },
  {
   "cell_type": "code",
   "execution_count": 67,
   "id": "6e924884-7791-4e86-91c2-5e5152a3ad9f",
   "metadata": {},
   "outputs": [
    {
     "data": {
      "text/plain": [
       "0     154\n",
       "1      84\n",
       "2      39\n",
       "3      47\n",
       "4     114\n",
       "     ... \n",
       "95     42\n",
       "96     92\n",
       "97    127\n",
       "98    140\n",
       "99    100\n",
       "Length: 100, dtype: int64"
      ]
     },
     "execution_count": 67,
     "metadata": {},
     "output_type": "execute_result"
    }
   ],
   "source": [
    "y"
   ]
  },
  {
   "cell_type": "code",
   "execution_count": 53,
   "id": "41d6a318-b4ba-4738-9a5b-cb095d89ef0f",
   "metadata": {},
   "outputs": [],
   "source": [
    "from sklearn.preprocessing import MinMaxScaler"
   ]
  },
  {
   "cell_type": "code",
   "execution_count": 54,
   "id": "9a36787b-39cf-4c78-a62c-0c9728269b9a",
   "metadata": {},
   "outputs": [],
   "source": [
    "scaler = MinMaxScaler()"
   ]
  },
  {
   "cell_type": "code",
   "execution_count": 55,
   "id": "35655508-b343-4909-94d1-99020ea64b67",
   "metadata": {},
   "outputs": [],
   "source": [
    "X = scaler.fit_transform(X)"
   ]
  },
  {
   "cell_type": "code",
   "execution_count": 156,
   "id": "63d3e6b2-a66a-40f1-8e66-59e2909aa7b0",
   "metadata": {},
   "outputs": [],
   "source": [
    "model = keras.Sequential()\n",
    "\n",
    "model.add(Dense(100))\n",
    "model.add(Dense(100))\n",
    "model.add(Dense(100))\n",
    "model.add(Dense(100))\n",
    "model.add(Dense(100))\n",
    "model.add(Dense(100))\n",
    "model.add(Dense(100))\n",
    "model.add(Dense(1))\n",
    "\n",
    "model.compile(optimizer='adam', loss='mse')"
   ]
  },
  {
   "cell_type": "code",
   "execution_count": 157,
   "id": "9bdc72da-3f28-4e13-b41d-97ebd29cf30d",
   "metadata": {},
   "outputs": [],
   "source": [
    "history = model.fit(X,y,epochs=100, batch_size=8, verbose=0, validation_split = 0.1)"
   ]
  },
  {
   "cell_type": "code",
   "execution_count": 158,
   "id": "2a4f8a7a-8ab4-4dc3-89f6-9fc2d96d3f05",
   "metadata": {},
   "outputs": [
    {
     "data": {
      "text/html": [
       "<div>\n",
       "<style scoped>\n",
       "    .dataframe tbody tr th:only-of-type {\n",
       "        vertical-align: middle;\n",
       "    }\n",
       "\n",
       "    .dataframe tbody tr th {\n",
       "        vertical-align: top;\n",
       "    }\n",
       "\n",
       "    .dataframe thead th {\n",
       "        text-align: right;\n",
       "    }\n",
       "</style>\n",
       "<table border=\"1\" class=\"dataframe\">\n",
       "  <thead>\n",
       "    <tr style=\"text-align: right;\">\n",
       "      <th></th>\n",
       "      <th>loss</th>\n",
       "      <th>val_loss</th>\n",
       "    </tr>\n",
       "  </thead>\n",
       "  <tbody>\n",
       "    <tr>\n",
       "      <th>0</th>\n",
       "      <td>9225.282227</td>\n",
       "      <td>2485.075928</td>\n",
       "    </tr>\n",
       "    <tr>\n",
       "      <th>1</th>\n",
       "      <td>1129.662476</td>\n",
       "      <td>968.629089</td>\n",
       "    </tr>\n",
       "    <tr>\n",
       "      <th>2</th>\n",
       "      <td>798.111023</td>\n",
       "      <td>390.536591</td>\n",
       "    </tr>\n",
       "    <tr>\n",
       "      <th>3</th>\n",
       "      <td>270.457306</td>\n",
       "      <td>210.367844</td>\n",
       "    </tr>\n",
       "    <tr>\n",
       "      <th>4</th>\n",
       "      <td>117.823402</td>\n",
       "      <td>30.870686</td>\n",
       "    </tr>\n",
       "    <tr>\n",
       "      <th>...</th>\n",
       "      <td>...</td>\n",
       "      <td>...</td>\n",
       "    </tr>\n",
       "    <tr>\n",
       "      <th>95</th>\n",
       "      <td>0.001090</td>\n",
       "      <td>0.000178</td>\n",
       "    </tr>\n",
       "    <tr>\n",
       "      <th>96</th>\n",
       "      <td>0.000396</td>\n",
       "      <td>0.000243</td>\n",
       "    </tr>\n",
       "    <tr>\n",
       "      <th>97</th>\n",
       "      <td>0.000464</td>\n",
       "      <td>0.000672</td>\n",
       "    </tr>\n",
       "    <tr>\n",
       "      <th>98</th>\n",
       "      <td>0.000542</td>\n",
       "      <td>0.000342</td>\n",
       "    </tr>\n",
       "    <tr>\n",
       "      <th>99</th>\n",
       "      <td>0.000343</td>\n",
       "      <td>0.000166</td>\n",
       "    </tr>\n",
       "  </tbody>\n",
       "</table>\n",
       "<p>100 rows × 2 columns</p>\n",
       "</div>"
      ],
      "text/plain": [
       "           loss     val_loss\n",
       "0   9225.282227  2485.075928\n",
       "1   1129.662476   968.629089\n",
       "2    798.111023   390.536591\n",
       "3    270.457306   210.367844\n",
       "4    117.823402    30.870686\n",
       "..          ...          ...\n",
       "95     0.001090     0.000178\n",
       "96     0.000396     0.000243\n",
       "97     0.000464     0.000672\n",
       "98     0.000542     0.000342\n",
       "99     0.000343     0.000166\n",
       "\n",
       "[100 rows x 2 columns]"
      ]
     },
     "execution_count": 158,
     "metadata": {},
     "output_type": "execute_result"
    }
   ],
   "source": [
    "pd.DataFrame(history.history)"
   ]
  },
  {
   "cell_type": "code",
   "execution_count": 159,
   "id": "12e5bb80-2745-4505-ad33-6af50dc1c8a2",
   "metadata": {},
   "outputs": [
    {
     "data": {
      "text/plain": [
       "<AxesSubplot:>"
      ]
     },
     "execution_count": 159,
     "metadata": {},
     "output_type": "execute_result"
    },
    {
     "data": {
      "image/png": "[encoded data removed]",
      "text/plain": [
       "<Figure size 720x216 with 1 Axes>"
      ]
     },
     "metadata": {
      "needs_background": "light"
     },
     "output_type": "display_data"
    }
   ],
   "source": [
    "pd.DataFrame(history.history).plot(figsize=(10,3), grid=True)"
   ]
  },
  {
   "cell_type": "code",
   "execution_count": 160,
   "id": "ea80656e-ceaa-4243-9a5d-acb4f7d4aa43",
   "metadata": {},
   "outputs": [
    {
     "data": {
      "text/plain": [
       "[<matplotlib.lines.Line2D at 0x28c986f37c0>]"
      ]
     },
     "execution_count": 160,
     "metadata": {},
     "output_type": "execute_result"
    },
    {
     "data": {
      "image/png": "[encoded data removed]",
      "text/plain": [
       "<Figure size 432x288 with 1 Axes>"
      ]
     },
     "metadata": {
      "needs_background": "light"
     },
     "output_type": "display_data"
    }
   ],
   "source": [
    "plt.plot(model(X).numpy().reshape(-1) - y)"
   ]
  },
  {
   "cell_type": "code",
   "execution_count": 161,
   "id": "caa5d076-f1c5-4967-9d4d-1ee44790d517",
   "metadata": {},
   "outputs": [
    {
     "data": {
      "text/plain": [
       "<tf.Tensor: shape=(10, 1), dtype=float32, numpy=\n",
       "array([[154.01442 ],\n",
       "       [ 84.02608 ],\n",
       "       [ 39.007923],\n",
       "       [ 47.000786],\n",
       "       [114.01702 ],\n",
       "       [ 17.008642],\n",
       "       [184.01834 ],\n",
       "       [185.03125 ],\n",
       "       [180.0226  ],\n",
       "       [102.99196 ]], dtype=float32)>"
      ]
     },
     "execution_count": 161,
     "metadata": {},
     "output_type": "execute_result"
    }
   ],
   "source": [
    "model(X)[:10]"
   ]
  },
  {
   "cell_type": "code",
   "execution_count": 162,
   "id": "d45dd665-2885-4ad6-a9ae-29113d3cf47b",
   "metadata": {},
   "outputs": [
    {
     "data": {
      "text/plain": [
       "0    154\n",
       "1     84\n",
       "2     39\n",
       "3     47\n",
       "4    114\n",
       "5     17\n",
       "6    184\n",
       "7    185\n",
       "8    180\n",
       "9    103\n",
       "dtype: int64"
      ]
     },
     "execution_count": 162,
     "metadata": {},
     "output_type": "execute_result"
    }
   ],
   "source": [
    "y[:10]"
   ]
  },
  {
   "cell_type": "code",
   "execution_count": null,
   "id": "aea31cfa-ec2c-4fc6-89eb-fb51b3c98256",
   "metadata": {},
   "outputs": [],
   "source": []
  }
 ],
 "metadata": {
  "kernelspec": {
   "display_name": "tf",
   "language": "python",
   "name": "tf"
  },
  "language_info": {
   "codemirror_mode": {
    "name": "ipython",
    "version": 3
   },
   "file_extension": ".py",
   "mimetype": "text/x-python",
   "name": "python",
   "nbconvert_exporter": "python",
   "pygments_lexer": "ipython3",
   "version": "3.8.8"
  }
 },
 "nbformat": 4,
 "nbformat_minor": 5
}
